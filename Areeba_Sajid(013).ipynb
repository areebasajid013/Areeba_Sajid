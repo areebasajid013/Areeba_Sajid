{
 "cells": [
  {
   "cell_type": "code",
   "execution_count": 5,
   "id": "a1f77d12-11fe-4373-bd40-3fdadf540e24",
   "metadata": {},
   "outputs": [],
   "source": [
    "import pandas as pd\n",
    "df = pd.read_csv(\"study_performance_Areeba.csv\")"
   ]
  },
  {
   "cell_type": "code",
   "execution_count": 6,
   "id": "ddf834d5-23e3-439e-bd01-ebe04aa03e7b",
   "metadata": {},
   "outputs": [],
   "source": [
    "df['student_name'] = 'Areeba Sajid'      \n",
    "df['student_id'] = '0013'             "
   ]
  },
  {
   "cell_type": "code",
   "execution_count": 7,
   "id": "256e84f0-3e67-49b7-b800-a3b970565479",
   "metadata": {},
   "outputs": [],
   "source": [
    "df = df[df['gender'] == 'female']\n"
   ]
  },
  {
   "cell_type": "code",
   "execution_count": 8,
   "id": "0d941596-56a6-4804-9468-19271c6d2907",
   "metadata": {},
   "outputs": [],
   "source": [
    "df.to_csv(\"study_performance_Areeba.csv\", index=False)\n"
   ]
  },
  {
   "cell_type": "code",
   "execution_count": 9,
   "id": "de9e8a99-0e14-419c-bde2-9e40cf5a0846",
   "metadata": {},
   "outputs": [
    {
     "name": "stdout",
     "output_type": "stream",
     "text": [
      "First 10 rows of the dataset:\n",
      "   gender race_ethnicity parental_level_of_education         lunch  \\\n",
      "0  female        group B           bachelor's degree      standard   \n",
      "1  female        group C                some college      standard   \n",
      "2  female        group B             master's degree      standard   \n",
      "3  female        group B          associate's degree      standard   \n",
      "4  female        group B                some college      standard   \n",
      "5  female        group B                 high school  free/reduced   \n",
      "6  female        group B                 high school      standard   \n",
      "7  female        group A             master's degree      standard   \n",
      "8  female        group C            some high school      standard   \n",
      "9  female        group B            some high school  free/reduced   \n",
      "\n",
      "  test_preparation_course  math_score  reading_score  writing_score  \\\n",
      "0                    none          72             72             74   \n",
      "1               completed          69             90             88   \n",
      "2                    none          90             95             93   \n",
      "3                    none          71             83             78   \n",
      "4               completed          88             95             92   \n",
      "5                    none          38             60             50   \n",
      "6                    none          65             81             73   \n",
      "7                    none          50             53             58   \n",
      "8                    none          69             75             78   \n",
      "9                    none          18             32             28   \n",
      "\n",
      "   student_name student_id  \n",
      "0  Areeba Sajid       0013  \n",
      "1  Areeba Sajid       0013  \n",
      "2  Areeba Sajid       0013  \n",
      "3  Areeba Sajid       0013  \n",
      "4  Areeba Sajid       0013  \n",
      "5  Areeba Sajid       0013  \n",
      "6  Areeba Sajid       0013  \n",
      "7  Areeba Sajid       0013  \n",
      "8  Areeba Sajid       0013  \n",
      "9  Areeba Sajid       0013  \n"
     ]
    }
   ],
   "source": [
    "print(\"First 10 rows of the dataset:\")\n",
    "print(df.head(10))\n"
   ]
  },
  {
   "cell_type": "code",
   "execution_count": 10,
   "id": "4fc19b37-46ab-4191-a97d-3061b789b1c4",
   "metadata": {},
   "outputs": [
    {
     "name": "stdout",
     "output_type": "stream",
     "text": [
      "\n",
      "Column Data Types:\n",
      "gender                         object\n",
      "race_ethnicity                 object\n",
      "parental_level_of_education    object\n",
      "lunch                          object\n",
      "test_preparation_course        object\n",
      "math_score                      int64\n",
      "reading_score                   int64\n",
      "writing_score                   int64\n",
      "student_name                   object\n",
      "student_id                     object\n",
      "dtype: object\n"
     ]
    }
   ],
   "source": [
    "print(\"\\nColumn Data Types:\")\n",
    "print(df.dtypes)"
   ]
  },
  {
   "cell_type": "code",
   "execution_count": 11,
   "id": "b4ae09a8-ea8b-4e92-a8e4-fa32ef3f7db7",
   "metadata": {},
   "outputs": [
    {
     "name": "stdout",
     "output_type": "stream",
     "text": [
      "\n",
      "Unique values in categorical columns:\n",
      "gender                         1\n",
      "race_ethnicity                 5\n",
      "parental_level_of_education    6\n",
      "lunch                          2\n",
      "test_preparation_course        2\n",
      "student_name                   1\n",
      "student_id                     1\n",
      "dtype: int64\n"
     ]
    }
   ],
   "source": [
    "print(\"\\nUnique values in categorical columns:\")\n",
    "print(df.select_dtypes(include='object').nunique())\n"
   ]
  },
  {
   "cell_type": "code",
   "execution_count": 12,
   "id": "8fb7145b-38c5-4363-bb2b-e7494a00b15d",
   "metadata": {},
   "outputs": [],
   "source": [
    "# Drop missing values (or use df.fillna() if you want to fill)\n",
    "df = df.dropna()\n"
   ]
  },
  {
   "cell_type": "code",
   "execution_count": 13,
   "id": "278110eb-b4da-48e3-b7ec-c9e4f9503c8a",
   "metadata": {},
   "outputs": [],
   "source": [
    "# Rename columns: lowercase and replace spaces with underscores\n",
    "df.columns = df.columns.str.lower().str.replace(' ', '_')\n"
   ]
  },
  {
   "cell_type": "code",
   "execution_count": 14,
   "id": "09ab9771-9f87-42b9-8eb0-8a856f6e916c",
   "metadata": {},
   "outputs": [],
   "source": [
    "score_cols = ['math_score', 'reading_score', 'writing_score']\n"
   ]
  },
  {
   "cell_type": "code",
   "execution_count": 15,
   "id": "557600c8-46b4-4d17-b127-17ab7aa810bb",
   "metadata": {},
   "outputs": [
    {
     "name": "stdout",
     "output_type": "stream",
     "text": [
      "\n",
      "Average Scores:\n",
      "math_score       63.633205\n",
      "reading_score    72.608108\n",
      "writing_score    72.467181\n",
      "dtype: float64\n"
     ]
    }
   ],
   "source": [
    "print(\"\\nAverage Scores:\")\n",
    "print(df[score_cols].mean())\n"
   ]
  },
  {
   "cell_type": "code",
   "execution_count": 16,
   "id": "88aeb763-0bd6-4145-9631-4f2e84f748a8",
   "metadata": {},
   "outputs": [
    {
     "name": "stdout",
     "output_type": "stream",
     "text": [
      "\n",
      "Minimum Scores:\n",
      "math_score        0\n",
      "reading_score    17\n",
      "writing_score    10\n",
      "dtype: int64\n"
     ]
    }
   ],
   "source": [
    "print(\"\\nMinimum Scores:\")\n",
    "print(df[score_cols].min())"
   ]
  },
  {
   "cell_type": "code",
   "execution_count": 17,
   "id": "c8e6675a-446f-4d4f-a8ec-777983dcacd4",
   "metadata": {},
   "outputs": [
    {
     "name": "stdout",
     "output_type": "stream",
     "text": [
      "\n",
      "Maximum Scores:\n",
      "math_score       100\n",
      "reading_score    100\n",
      "writing_score    100\n",
      "dtype: int64\n"
     ]
    }
   ],
   "source": [
    "print(\"\\nMaximum Scores:\")\n",
    "print(df[score_cols].max())\n"
   ]
  },
  {
   "cell_type": "code",
   "execution_count": 18,
   "id": "40cbc05a-c74e-4ca5-89a6-f4825495fde7",
   "metadata": {},
   "outputs": [
    {
     "name": "stdout",
     "output_type": "stream",
     "text": [
      "\n",
      "Standard Deviation of Scores:\n",
      "math_score       15.491453\n",
      "reading_score    14.378245\n",
      "writing_score    14.844842\n",
      "dtype: float64\n"
     ]
    }
   ],
   "source": [
    "print(\"\\nStandard Deviation of Scores:\")\n",
    "print(df[score_cols].std())\n"
   ]
  },
  {
   "cell_type": "code",
   "execution_count": 19,
   "id": "77f2556e-4864-4cb3-95ea-48ad1a2a5475",
   "metadata": {},
   "outputs": [
    {
     "name": "stdout",
     "output_type": "stream",
     "text": [
      "\n",
      "Students with >90 in all subjects:\n",
      "     gender race_ethnicity parental_level_of_education         lunch  \\\n",
      "57   female        group E           bachelor's degree      standard   \n",
      "79   female        group C           bachelor's degree      standard   \n",
      "90   female        group D            some high school      standard   \n",
      "218  female        group E                some college      standard   \n",
      "222  female        group E           bachelor's degree      standard   \n",
      "271  female        group A            some high school      standard   \n",
      "280  female        group E           bachelor's degree  free/reduced   \n",
      "299  female        group C           bachelor's degree      standard   \n",
      "351  female        group E             master's degree      standard   \n",
      "367  female        group D                some college      standard   \n",
      "370  female        group C          associate's degree      standard   \n",
      "442  female        group B           bachelor's degree      standard   \n",
      "455  female        group E          associate's degree      standard   \n",
      "466  female        group D           bachelor's degree  free/reduced   \n",
      "490  female        group D             master's degree      standard   \n",
      "494  female        group E          associate's degree      standard   \n",
      "504  female        group C          associate's degree      standard   \n",
      "\n",
      "    test_preparation_course  math_score  reading_score  writing_score  \\\n",
      "57                completed          99            100            100   \n",
      "79                completed          96            100            100   \n",
      "90                completed          97            100            100   \n",
      "218                    none         100             92             97   \n",
      "222                    none         100            100            100   \n",
      "271               completed          92            100             97   \n",
      "280               completed          92            100            100   \n",
      "299               completed          92            100             99   \n",
      "351               completed          94             99            100   \n",
      "367                    none          98            100             99   \n",
      "370               completed          96             96             99   \n",
      "442                    none          97             97             96   \n",
      "455               completed          93            100             95   \n",
      "466               completed          93            100            100   \n",
      "490                    none          92            100            100   \n",
      "494                    none         100            100            100   \n",
      "504                    none          91             95             94   \n",
      "\n",
      "     student_name student_id  \n",
      "57   Areeba Sajid       0013  \n",
      "79   Areeba Sajid       0013  \n",
      "90   Areeba Sajid       0013  \n",
      "218  Areeba Sajid       0013  \n",
      "222  Areeba Sajid       0013  \n",
      "271  Areeba Sajid       0013  \n",
      "280  Areeba Sajid       0013  \n",
      "299  Areeba Sajid       0013  \n",
      "351  Areeba Sajid       0013  \n",
      "367  Areeba Sajid       0013  \n",
      "370  Areeba Sajid       0013  \n",
      "442  Areeba Sajid       0013  \n",
      "455  Areeba Sajid       0013  \n",
      "466  Areeba Sajid       0013  \n",
      "490  Areeba Sajid       0013  \n",
      "494  Areeba Sajid       0013  \n",
      "504  Areeba Sajid       0013  \n"
     ]
    }
   ],
   "source": [
    "# Students with scores >90 in all subjects\n",
    "high_scores = df[(df['math_score'] > 90) & (df['reading_score'] > 90) & (df['writing_score'] > 90)]\n",
    "print(\"\\nStudents with >90 in all subjects:\")\n",
    "print(high_scores)\n"
   ]
  },
  {
   "cell_type": "code",
   "execution_count": 20,
   "id": "a879781e-1381-4fdc-ba8e-2ce596709f8d",
   "metadata": {},
   "outputs": [
    {
     "name": "stdout",
     "output_type": "stream",
     "text": [
      "\n",
      "Data sorted by writing_score (descending):\n",
      "     gender race_ethnicity parental_level_of_education         lunch  \\\n",
      "490  female        group D             master's degree      standard   \n",
      "494  female        group E          associate's degree      standard   \n",
      "466  female        group D           bachelor's degree  free/reduced   \n",
      "52   female        group D             master's degree      standard   \n",
      "57   female        group E           bachelor's degree      standard   \n",
      "\n",
      "    test_preparation_course  math_score  reading_score  writing_score  \\\n",
      "490                    none          92            100            100   \n",
      "494                    none         100            100            100   \n",
      "466               completed          93            100            100   \n",
      "52                     none          87            100            100   \n",
      "57                completed          99            100            100   \n",
      "\n",
      "     student_name student_id  \n",
      "490  Areeba Sajid       0013  \n",
      "494  Areeba Sajid       0013  \n",
      "466  Areeba Sajid       0013  \n",
      "52   Areeba Sajid       0013  \n",
      "57   Areeba Sajid       0013  \n"
     ]
    }
   ],
   "source": [
    "# Sort by writing_score in descending order\n",
    "sorted_df = df.sort_values(by='writing_score', ascending=False)\n",
    "print(\"\\nData sorted by writing_score (descending):\")\n",
    "print(sorted_df.head())"
   ]
  },
  {
   "cell_type": "code",
   "execution_count": 21,
   "id": "0d9493e4-c829-4e92-9adf-907bae919058",
   "metadata": {},
   "outputs": [
    {
     "name": "stdout",
     "output_type": "stream",
     "text": [
      "\n",
      "Average Scores by Gender:\n",
      "        math_score  reading_score  writing_score\n",
      "gender                                          \n",
      "female   63.633205      72.608108      72.467181\n"
     ]
    }
   ],
   "source": [
    "# Group by gender and find average scores\n",
    "print(\"\\nAverage Scores by Gender:\")\n",
    "print(df.groupby('gender')[score_cols].mean())"
   ]
  },
  {
   "cell_type": "code",
   "execution_count": 22,
   "id": "6cb600bc-ec1d-4457-a609-3d12f51ea09e",
   "metadata": {},
   "outputs": [
    {
     "name": "stdout",
     "output_type": "stream",
     "text": [
      "\n",
      "Student count by Test Preparation Course:\n",
      "test_preparation_course\n",
      "completed    184\n",
      "none         334\n",
      "dtype: int64\n"
     ]
    }
   ],
   "source": [
    "# Count students by test preparation course\n",
    "print(\"\\nStudent count by Test Preparation Course:\")\n",
    "print(df.groupby('test_preparation_course').size())"
   ]
  },
  {
   "cell_type": "code",
   "execution_count": 23,
   "id": "09d5735e-fbd7-42c4-a32c-86ef92acfbc7",
   "metadata": {},
   "outputs": [],
   "source": [
    "# Add average_score column\n",
    "df['average_score'] = df[score_cols].mean(axis=1)"
   ]
  },
  {
   "cell_type": "code",
   "execution_count": 24,
   "id": "8da7ef17-38b7-4abd-bc4f-6eca29f074f7",
   "metadata": {},
   "outputs": [],
   "source": [
    "# Define performance level based on average_score\n",
    "def performance_level(score):\n",
    "    if score >= 90:\n",
    "        return 'Excellent'\n",
    "    elif score >= 70:\n",
    "        return 'Good'\n",
    "    elif score >= 50:\n",
    "        return 'Average'\n",
    "    else:\n",
    "        return 'Poor'"
   ]
  },
  {
   "cell_type": "code",
   "execution_count": 25,
   "id": "5da4e5e6-0a49-4de5-ba8e-bb3b399faadd",
   "metadata": {},
   "outputs": [],
   "source": [
    "# Add performance_level column\n",
    "df['performance_level'] = df['average_score'].apply(performance_level)"
   ]
  },
  {
   "cell_type": "code",
   "execution_count": 26,
   "id": "82a7bca6-ca3a-4af5-92eb-abd52f0e8bff",
   "metadata": {},
   "outputs": [],
   "source": [
    "df.to_csv(\"final_study_performance_Areeba.csv\", index=False)"
   ]
  },
  {
   "cell_type": "code",
   "execution_count": null,
   "id": "6448dd46-c1de-426d-b2ab-2bd85eb61d0e",
   "metadata": {},
   "outputs": [],
   "source": []
  }
 ],
 "metadata": {
  "kernelspec": {
   "display_name": "Python 3 (ipykernel)",
   "language": "python",
   "name": "python3"
  },
  "language_info": {
   "codemirror_mode": {
    "name": "ipython",
    "version": 3
   },
   "file_extension": ".py",
   "mimetype": "text/x-python",
   "name": "python",
   "nbconvert_exporter": "python",
   "pygments_lexer": "ipython3",
   "version": "3.13.3"
  }
 },
 "nbformat": 4,
 "nbformat_minor": 5
}
